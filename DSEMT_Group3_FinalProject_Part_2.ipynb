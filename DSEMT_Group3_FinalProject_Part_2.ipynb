{
  "cells": [
    {
      "cell_type": "markdown",
      "metadata": {
        "id": "aTKO44TjWKXb"
      },
      "source": [
        "### Amazon review model\n",
        "\n",
        "DSEMT group 3 Final Project Part 2:\n",
        "                                  - Navin Sharma 002737702\n",
        "                                  - Shreya Deshpande 001002875\n",
        "                                  - Koushal Sai Amshala 002772702\n",
        "                                  - Parjita Munshi 002761776"
      ]
    },
    {
      "cell_type": "code",
      "execution_count": null,
      "metadata": {
        "id": "TXTnulr6Tqvy"
      },
      "outputs": [],
      "source": [
        "#loading Libraries\n",
        "import numpy as np\n",
        "import pandas as pd"
      ]
    },
    {
      "cell_type": "code",
      "execution_count": null,
      "metadata": {
        "id": "CHQF1dtaTqwJ"
      },
      "outputs": [],
      "source": [
        "#load the preprocessed data \n",
        "data=pd.read_csv('E:\\Data Science\\Final_Project/reviews.csv' )"
      ]
    },
    {
      "cell_type": "code",
      "execution_count": null,
      "metadata": {
        "id": "q8hYXuhrTqwS"
      },
      "outputs": [],
      "source": [
        "data.head()\n",
        "data.drop_duplicates(inplace=True)"
      ]
    },
    {
      "cell_type": "code",
      "execution_count": null,
      "metadata": {
        "colab": {
          "base_uri": "https://localhost:8080/"
        },
        "id": "sQ43Erl0yBu2",
        "outputId": "ff0f1a79-7d1f-4b96-de9b-cb7b841d0c15"
      },
      "outputs": [
        {
          "data": {
            "text/plain": [
              "False"
            ]
          },
          "execution_count": 4,
          "metadata": {},
          "output_type": "execute_result"
        }
      ],
      "source": [
        "data['text'].isnull().values.any()\n",
        "data['rating'].isnull().values.any()"
      ]
    },
    {
      "cell_type": "code",
      "execution_count": null,
      "metadata": {
        "id": "LBy8o2W4Tqwd"
      },
      "outputs": [],
      "source": [
        "#use preprocessed_reviews and score for building a model\n",
        "X=data['text'].values.astype('U')\n",
        "Y=data['rating'].values.astype('U')"
      ]
    },
    {
      "cell_type": "code",
      "execution_count": null,
      "metadata": {
        "colab": {
          "base_uri": "https://localhost:8080/"
        },
        "id": "X2UXqYrATqwh",
        "outputId": "59b43fee-0218-4565-bc21-ecffb9a4763e"
      },
      "outputs": [
        {
          "name": "stdout",
          "output_type": "stream",
          "text": [
            "(5000,)\n",
            "(5000,)\n"
          ]
        }
      ],
      "source": [
        "print(X.shape)\n",
        "print(Y.shape)"
      ]
    },
    {
      "cell_type": "code",
      "execution_count": null,
      "metadata": {
        "colab": {
          "base_uri": "https://localhost:8080/"
        },
        "id": "iDdkuAk4Tqwo",
        "outputId": "f34ff280-10a0-4788-ffd5-70ac43fc0b9d"
      },
      "outputs": [
        {
          "name": "stdout",
          "output_type": "stream",
          "text": [
            "(3500,) (3500,)\n",
            "(1500,) (1500,)\n"
          ]
        }
      ],
      "source": [
        "#define a function for splitting of data\n",
        "from sklearn.model_selection import train_test_split\n",
        "X_train,X_test,Y_train,Y_test=train_test_split(X,Y,test_size=0.3)\n",
        "print(X_train.shape,Y_train.shape)\n",
        "print(X_test.shape,Y_test.shape)"
      ]
    },
    {
      "cell_type": "code",
      "execution_count": null,
      "metadata": {
        "colab": {
          "base_uri": "https://localhost:8080/"
        },
        "id": "HYCrBrwqTqwu",
        "outputId": "90ba539e-8a99-4d47-df50-07ce03d5e8de"
      },
      "outputs": [
        {
          "name": "stdout",
          "output_type": "stream",
          "text": [
            "(3500, 3965) (3500,)\n",
            "(1500, 3965) (1500,)\n"
          ]
        }
      ],
      "source": [
        "#Apply Bow Features on Splitted data\n",
        "from sklearn.feature_extraction.text import CountVectorizer\n",
        "Vect=CountVectorizer()\n",
        "X_train_Bow=Vect.fit_transform(X_train)\n",
        "X_test_Bow=Vect.transform(X_test)\n",
        "print(X_train_Bow.shape,Y_train.shape)\n",
        "print(X_test_Bow.shape,Y_test.shape)"
      ]
    },
    {
      "cell_type": "code",
      "execution_count": null,
      "metadata": {
        "id": "0eJ_aMXKTqwy"
      },
      "outputs": [],
      "source": [
        "X_train=X_train_Bow\n",
        "X_test=X_test_Bow"
      ]
    },
    {
      "cell_type": "code",
      "execution_count": null,
      "metadata": {
        "id": "id4L8-XQT775",
        "outputId": "4502feb3-05db-4494-d2e6-d018e2785ff0"
      },
      "outputs": [
        {
          "name": "stderr",
          "output_type": "stream",
          "text": [
            "C:\\Users\\parjita\\AppData\\Local\\Programs\\Python\\Python310\\lib\\site-packages\\numpy\\lib\\arraysetops.py:612: FutureWarning: elementwise comparison failed; returning scalar instead, but in the future will perform elementwise comparison\n",
            "  mask |= (ar1 == a)\n"
          ]
        }
      ],
      "source": [
        "from sklearn import preprocessing\n",
        "y = preprocessing.label_binarize(Y_train, classes=[0, 1, 2, 3])"
      ]
    },
    {
      "cell_type": "code",
      "execution_count": null,
      "metadata": {
        "id": "53bBH-CdT776",
        "outputId": "b388b788-6940-440c-ead9-74c987adc50f"
      },
      "outputs": [
        {
          "name": "stderr",
          "output_type": "stream",
          "text": [
            "C:\\Users\\parjita\\AppData\\Local\\Programs\\Python\\Python310\\lib\\site-packages\\numpy\\lib\\arraysetops.py:612: FutureWarning: elementwise comparison failed; returning scalar instead, but in the future will perform elementwise comparison\n",
            "  mask |= (ar1 == a)\n"
          ]
        }
      ],
      "source": [
        "from sklearn import preprocessing\n",
        "y = preprocessing.label_binarize(Y_test, classes=[0, 1, 2, 3])"
      ]
    },
    {
      "cell_type": "code",
      "execution_count": null,
      "metadata": {
        "id": "-U3U8QN6WSaM",
        "outputId": "82d5f779-d8cb-4543-ab50-1809ec437214"
      },
      "outputs": [
        {
          "name": "stderr",
          "output_type": "stream",
          "text": [
            "C:\\Users\\parjita\\AppData\\Local\\Temp\\ipykernel_30208\\4283304283.py:9: FutureWarning: pandas.util.testing is deprecated. Use the functions in the public API at pandas.testing instead.\n",
            "  import pandas.util.testing as tm\n"
          ]
        }
      ],
      "source": [
        "#hyperparameter tuning for find optimal_K\n",
        "from sklearn.model_selection import GridSearchCV\n",
        "from sklearn.model_selection import KFold\n",
        "from sklearn.naive_bayes import MultinomialNB\n",
        "from sklearn.metrics import confusion_matrix,roc_curve,auc\n",
        "from sklearn.metrics import roc_auc_score\n",
        "import matplotlib.pyplot as plt\n",
        "import seaborn as sns\n",
        "import pandas.util.testing as tm\n",
        "import math"
      ]
    },
    {
      "cell_type": "code",
      "execution_count": null,
      "metadata": {
        "id": "OctTWygAYp2E"
      },
      "outputs": [],
      "source": [
        "#Grid Search Cross validation for hyper_parameter tuning\n",
        "def Grid_search(X_train,Y_train):\n",
        "    cv=KFold(n_splits=5) #defining the K-fold cross validation\n",
        "    alpha_values = [0.00001,0.0001,0.001,0.01,0.1,1,10,100,1000,10000,100000]#alpha from 10^-5 to 10^5\n",
        "    model=MultinomialNB()\n",
        "    parameters = {'alpha':alpha_values}\n",
        "    clf = GridSearchCV(model,parameters, cv=cv, return_train_score=True,verbose=1)\n",
        "    clf.fit(X_train, Y_train)\n",
        "    \n",
        "    results = pd.DataFrame.from_dict(clf.cv_results_)\n",
        "    results = results.sort_values(['param_alpha'])\n",
        "\n",
        "    train_auc= clf.cv_results_['mean_train_score']\n",
        "    train_auc_std= clf.cv_results_['std_train_score']\n",
        "    cv_auc = clf.cv_results_['mean_test_score'] \n",
        "    cv_auc_std= clf.cv_results_['std_test_score']\n",
        "    best_alpha= clf.best_params_['alpha']\n",
        "    \n",
        "    sns.set()\n",
        "    alpha_values=[math.log(x) for x in alpha_values]\n",
        "    plt.plot(alpha_values, train_auc, label='Train AUC')\n",
        "\n",
        "    plt.gca().fill_between(alpha_values,train_auc - train_auc_std,train_auc + train_auc_std,alpha=0.2,color='darkblue')\n",
        "\n",
        "    plt.plot(alpha_values, cv_auc, label='CV AUC')\n",
        "  \n",
        "    plt.gca().fill_between(alpha_values,cv_auc - cv_auc_std,cv_auc + cv_auc_std,alpha=0.2,color='darkorange')\n",
        "    plt.scatter(alpha_values, train_auc, label='Train AUC points')\n",
        "    plt.scatter(alpha_values, cv_auc, label='CV AUC points')\n",
        "    plt.legend()\n",
        "    plt.xlabel(\"alpha_values: hyperparameter\")\n",
        "    plt.ylabel(\"AUC\")\n",
        "    plt.title(\"ERROR PLOTS\")\n",
        "    plt.show()\n",
        "    \n",
        "    print(\"Best cross-validation score: {:.3f}\".format(clf.best_score_))\n",
        "    print('The best alpha from gridsearch :',best_alpha)\n",
        "    return  best_alpha"
      ]
    },
    {
      "cell_type": "code",
      "execution_count": null,
      "metadata": {
        "colab": {
          "base_uri": "https://localhost:8080/",
          "height": 1000
        },
        "id": "o633zFt2Z3yF",
        "outputId": "27abb9e6-f69a-42d5-a895-210ade1ad0bf"
      },
      "outputs": [
        {
          "name": "stdout",
          "output_type": "stream",
          "text": [
            "Fitting 5 folds for each of 11 candidates, totalling 55 fits\n"
          ]
        },
        {
          "data": {
            "image/png": "[encoded data removed]",
            "text/plain": [
              "<Figure size 640x480 with 1 Axes>"
            ]
          },
          "metadata": {},
          "output_type": "display_data"
        },
        {
          "name": "stdout",
          "output_type": "stream",
          "text": [
            "Best cross-validation score: 0.836\n",
            "The best alpha from gridsearch : 100\n"
          ]
        }
      ],
      "source": [
        "#finding the best alpha using grid serach\n",
        "#we are already defined a function juct call it now\n",
        "best_alpha=Grid_search(X_train,Y_train)"
      ]
    },
    {
      "cell_type": "code",
      "execution_count": null,
      "metadata": {
        "colab": {
          "base_uri": "https://localhost:8080/"
        },
        "id": "1C-jsDTXer9o",
        "outputId": "6acc705c-e1e0-4197-f537-c58c218c98ac"
      },
      "outputs": [
        {
          "data": {
            "text/plain": [
              "100"
            ]
          },
          "execution_count": 15,
          "metadata": {},
          "output_type": "execute_result"
        }
      ],
      "source": [
        "#best alpha by grid search hyper parameter tuning\n",
        "best_alpha"
      ]
    },
    {
      "cell_type": "code",
      "execution_count": null,
      "metadata": {
        "id": "w90T421HT778"
      },
      "outputs": [],
      "source": [
        "# Top 10 important features of positive class \n",
        "feature_names=Vect.get_feature_names()\n",
        "model=MultinomialNB(alpha=best_alpha)\n",
        "model.fit(X_train, Y_train)\n",
        "a=getattr(model, 'feature_log_prob_') #Return the value of the named attribute of object. name must be a string. If the string is the name of one of the object’s attributes\n",
        "top =zip(a[1], feature_names)\n",
        "top=list(top)\n",
        "top.sort(key=lambda x: x[0])\n",
        "l=len(top)\n",
        "print('\\nThe Top 10 Positive Class Features are :\\n')\n",
        "for i in range(1,11):\n",
        "    print(top[l-i][1],end=\"\\n\")"
      ]
    },
    {
      "cell_type": "code",
      "execution_count": null,
      "metadata": {
        "id": "VwAeAXL7T778"
      },
      "outputs": [],
      "source": [
        "# Top 10 important features of Negative class \n",
        "feature_names=Vect.get_feature_names()\n",
        "model=MultinomialNB(alpha=best_alpha)\n",
        "model.fit(X_train, Y_train)\n",
        "a=getattr(model, 'feature_log_prob_') #Return the value of the named attribute of object. name must be a string. If the string is the name of one of the object’s attributes\n",
        "top =zip(a[0], feature_names)\n",
        "top=list(top)\n",
        "top.sort(key=lambda x: x[0])\n",
        "l=len(top)\n",
        "print('\\nThe Top 10 Negative Class Features are :\\n')\n",
        "for i in range(1,11):\n",
        "    print(top[l-i][1],end=\"\\n\")"
      ]
    },
    {
      "cell_type": "code",
      "execution_count": null,
      "metadata": {
        "id": "30nq28MET778",
        "outputId": "65e819b3-58e4-4deb-ddd6-831951eaed3b"
      },
      "outputs": [
        {
          "data": {
            "text/plain": [
              "0    Kids hats no longer fit, so we were searching ...\n",
              "1    This Carhartt Men's Knit Cuffed Beanie seems t...\n",
              "2    I want to start by saying this beanie is NOT t...\n",
              "3    As a fairly small-headed woman, this thing is ...\n",
              "4    This is my 2nd purchase of this hat, however, ...\n",
              "Name: text, dtype: object"
            ]
          },
          "execution_count": 18,
          "metadata": {},
          "output_type": "execute_result"
        }
      ],
      "source": [
        "data.text.head()"
      ]
    },
    {
      "cell_type": "code",
      "execution_count": null,
      "metadata": {
        "id": "wCwOzSMbT779",
        "outputId": "43616266-6fa0-4906-ff58-f6c2975b6f23"
      },
      "outputs": [
        {
          "data": {
            "text/plain": [
              "'Love the fit & the look! It is my second purchase'"
            ]
          },
          "execution_count": 19,
          "metadata": {},
          "output_type": "execute_result"
        }
      ],
      "source": [
        "review_example = data.text[2031]\n",
        "review_example"
      ]
    },
    {
      "cell_type": "code",
      "execution_count": null,
      "metadata": {
        "id": "34j04YXgT779",
        "outputId": "31b1062b-6454-4288-934b-bec7e3807f3d"
      },
      "outputs": [
        {
          "data": {
            "text/plain": [
              "'LovethefitthelookItismysecondpurchase'"
            ]
          },
          "execution_count": 20,
          "metadata": {},
          "output_type": "execute_result"
        }
      ],
      "source": [
        "import re\n",
        "review_example = re.sub(\"[^a-zA-Z]\",'',review_example)\n",
        "review_example"
      ]
    },
    {
      "cell_type": "code",
      "execution_count": null,
      "metadata": {
        "id": "D1KfCDg5T779",
        "outputId": "7800a06c-ba92-488d-8d93-3058e7a88c60"
      },
      "outputs": [
        {
          "data": {
            "text/html": [
              "<div>\n",
              "<style scoped>\n",
              "    .dataframe tbody tr th:only-of-type {\n",
              "        vertical-align: middle;\n",
              "    }\n",
              "\n",
              "    .dataframe tbody tr th {\n",
              "        vertical-align: top;\n",
              "    }\n",
              "\n",
              "    .dataframe thead th {\n",
              "        text-align: right;\n",
              "    }\n",
              "</style>\n",
              "<table border=\"1\" class=\"dataframe\">\n",
              "  <thead>\n",
              "    <tr style=\"text-align: right;\">\n",
              "      <th></th>\n",
              "      <th>id</th>\n",
              "      <th>profileName</th>\n",
              "      <th>text</th>\n",
              "      <th>date</th>\n",
              "      <th>title</th>\n",
              "      <th>rating</th>\n",
              "      <th>images</th>\n",
              "      <th>helpful</th>\n",
              "      <th>Size</th>\n",
              "      <th>Color</th>\n",
              "    </tr>\n",
              "  </thead>\n",
              "  <tbody>\n",
              "    <tr>\n",
              "      <th>0</th>\n",
              "      <td>RRNW8O8WKON3S</td>\n",
              "      <td>Tabby Katt</td>\n",
              "      <td>kidshatsnolongerfitsoweweresearchingforanewwin...</td>\n",
              "      <td>Reviewed in the United States on December 7, 2022</td>\n",
              "      <td>Little brother loves it!</td>\n",
              "      <td>5</td>\n",
              "      <td>NaN</td>\n",
              "      <td>3</td>\n",
              "      <td>One Size</td>\n",
              "      <td>Cadmium Green/Shadow Marl</td>\n",
              "    </tr>\n",
              "    <tr>\n",
              "      <th>1</th>\n",
              "      <td>R2H354V80I4Z9J</td>\n",
              "      <td>Redpawn3</td>\n",
              "      <td>thiscarharttmensknitcuffedbeanieseemstobequali...</td>\n",
              "      <td>Reviewed in the United States on November 23, ...</td>\n",
              "      <td>Smaller than desired on large, big, larger, bi...</td>\n",
              "      <td>4</td>\n",
              "      <td>NaN</td>\n",
              "      <td>37</td>\n",
              "      <td>One Size</td>\n",
              "      <td>Black</td>\n",
              "    </tr>\n",
              "    <tr>\n",
              "      <th>2</th>\n",
              "      <td>R10JKN5868NJ7X</td>\n",
              "      <td>Drea</td>\n",
              "      <td>iwanttostartbysayingthisbeanieisnottightlikeso...</td>\n",
              "      <td>Reviewed in the United States on December 9, 2022</td>\n",
              "      <td>Best beanie!</td>\n",
              "      <td>5</td>\n",
              "      <td>NaN</td>\n",
              "      <td>2</td>\n",
              "      <td>One Size</td>\n",
              "      <td>Black</td>\n",
              "    </tr>\n",
              "    <tr>\n",
              "      <th>3</th>\n",
              "      <td>RLZGCROKH1BY6</td>\n",
              "      <td>M</td>\n",
              "      <td>asafairlysmallheadedwomanthisthingisawesomeilo...</td>\n",
              "      <td>Reviewed in the United States on November 19, ...</td>\n",
              "      <td>Men’s… pifft</td>\n",
              "      <td>5</td>\n",
              "      <td>NaN</td>\n",
              "      <td>12</td>\n",
              "      <td>One Size</td>\n",
              "      <td>North Woods</td>\n",
              "    </tr>\n",
              "    <tr>\n",
              "      <th>4</th>\n",
              "      <td>RMCSIE5V8PXV3</td>\n",
              "      <td>KccaseyK</td>\n",
              "      <td>thisismyndpurchaseofthishathoweveriwilltellyou...</td>\n",
              "      <td>Reviewed in the United States on October 31, 2015</td>\n",
              "      <td>Very comfortable and warm. Extra length to pro...</td>\n",
              "      <td>5</td>\n",
              "      <td>NaN</td>\n",
              "      <td>57</td>\n",
              "      <td>One Size</td>\n",
              "      <td>Black</td>\n",
              "    </tr>\n",
              "  </tbody>\n",
              "</table>\n",
              "</div>"
            ],
            "text/plain": [
              "               id profileName  \\\n",
              "0   RRNW8O8WKON3S  Tabby Katt   \n",
              "1  R2H354V80I4Z9J    Redpawn3   \n",
              "2  R10JKN5868NJ7X        Drea   \n",
              "3   RLZGCROKH1BY6           M   \n",
              "4   RMCSIE5V8PXV3    KccaseyK   \n",
              "\n",
              "                                                text  \\\n",
              "0  kidshatsnolongerfitsoweweresearchingforanewwin...   \n",
              "1  thiscarharttmensknitcuffedbeanieseemstobequali...   \n",
              "2  iwanttostartbysayingthisbeanieisnottightlikeso...   \n",
              "3  asafairlysmallheadedwomanthisthingisawesomeilo...   \n",
              "4  thisismyndpurchaseofthishathoweveriwilltellyou...   \n",
              "\n",
              "                                                date  \\\n",
              "0  Reviewed in the United States on December 7, 2022   \n",
              "1  Reviewed in the United States on November 23, ...   \n",
              "2  Reviewed in the United States on December 9, 2022   \n",
              "3  Reviewed in the United States on November 19, ...   \n",
              "4  Reviewed in the United States on October 31, 2015   \n",
              "\n",
              "                                               title  rating images  helpful  \\\n",
              "0                           Little brother loves it!       5    NaN        3   \n",
              "1  Smaller than desired on large, big, larger, bi...       4    NaN       37   \n",
              "2                                       Best beanie!       5    NaN        2   \n",
              "3                                       Men’s… pifft       5    NaN       12   \n",
              "4  Very comfortable and warm. Extra length to pro...       5    NaN       57   \n",
              "\n",
              "       Size                      Color  \n",
              "0  One Size  Cadmium Green/Shadow Marl  \n",
              "1  One Size                      Black  \n",
              "2  One Size                      Black  \n",
              "3  One Size                North Woods  \n",
              "4  One Size                      Black  "
            ]
          },
          "execution_count": 21,
          "metadata": {},
          "output_type": "execute_result"
        }
      ],
      "source": [
        "rt = lambda x : re.sub(\"[^a-zA-Z]\",'',str(x))\n",
        "data[\"text\"] = data[\"text\"].map(rt)\n",
        "data[\"text\"] = data[\"text\"].str.lower()\n",
        "data.head()"
      ]
    },
    {
      "cell_type": "code",
      "execution_count": null,
      "metadata": {
        "id": "VUITu_FTT779",
        "outputId": "c2ce0efe-bdb7-4c8c-8943-cdae7100e4a5"
      },
      "outputs": [
        {
          "data": {
            "text/html": [
              "<style>#sk-container-id-1 {color: black;background-color: white;}#sk-container-id-1 pre{padding: 0;}#sk-container-id-1 div.sk-toggleable {background-color: white;}#sk-container-id-1 label.sk-toggleable__label {cursor: pointer;display: block;width: 100%;margin-bottom: 0;padding: 0.3em;box-sizing: border-box;text-align: center;}#sk-container-id-1 label.sk-toggleable__label-arrow:before {content: \"▸\";float: left;margin-right: 0.25em;color: #696969;}#sk-container-id-1 label.sk-toggleable__label-arrow:hover:before {color: black;}#sk-container-id-1 div.sk-estimator:hover label.sk-toggleable__label-arrow:before {color: black;}#sk-container-id-1 div.sk-toggleable__content {max-height: 0;max-width: 0;overflow: hidden;text-align: left;background-color: #f0f8ff;}#sk-container-id-1 div.sk-toggleable__content pre {margin: 0.2em;color: black;border-radius: 0.25em;background-color: #f0f8ff;}#sk-container-id-1 input.sk-toggleable__control:checked~div.sk-toggleable__content {max-height: 200px;max-width: 100%;overflow: auto;}#sk-container-id-1 input.sk-toggleable__control:checked~label.sk-toggleable__label-arrow:before {content: \"▾\";}#sk-container-id-1 div.sk-estimator input.sk-toggleable__control:checked~label.sk-toggleable__label {background-color: #d4ebff;}#sk-container-id-1 div.sk-label input.sk-toggleable__control:checked~label.sk-toggleable__label {background-color: #d4ebff;}#sk-container-id-1 input.sk-hidden--visually {border: 0;clip: rect(1px 1px 1px 1px);clip: rect(1px, 1px, 1px, 1px);height: 1px;margin: -1px;overflow: hidden;padding: 0;position: absolute;width: 1px;}#sk-container-id-1 div.sk-estimator {font-family: monospace;background-color: #f0f8ff;border: 1px dotted black;border-radius: 0.25em;box-sizing: border-box;margin-bottom: 0.5em;}#sk-container-id-1 div.sk-estimator:hover {background-color: #d4ebff;}#sk-container-id-1 div.sk-parallel-item::after {content: \"\";width: 100%;border-bottom: 1px solid gray;flex-grow: 1;}#sk-container-id-1 div.sk-label:hover label.sk-toggleable__label {background-color: #d4ebff;}#sk-container-id-1 div.sk-serial::before {content: \"\";position: absolute;border-left: 1px solid gray;box-sizing: border-box;top: 0;bottom: 0;left: 50%;z-index: 0;}#sk-container-id-1 div.sk-serial {display: flex;flex-direction: column;align-items: center;background-color: white;padding-right: 0.2em;padding-left: 0.2em;position: relative;}#sk-container-id-1 div.sk-item {position: relative;z-index: 1;}#sk-container-id-1 div.sk-parallel {display: flex;align-items: stretch;justify-content: center;background-color: white;position: relative;}#sk-container-id-1 div.sk-item::before, #sk-container-id-1 div.sk-parallel-item::before {content: \"\";position: absolute;border-left: 1px solid gray;box-sizing: border-box;top: 0;bottom: 0;left: 50%;z-index: -1;}#sk-container-id-1 div.sk-parallel-item {display: flex;flex-direction: column;z-index: 1;position: relative;background-color: white;}#sk-container-id-1 div.sk-parallel-item:first-child::after {align-self: flex-end;width: 50%;}#sk-container-id-1 div.sk-parallel-item:last-child::after {align-self: flex-start;width: 50%;}#sk-container-id-1 div.sk-parallel-item:only-child::after {width: 0;}#sk-container-id-1 div.sk-dashed-wrapped {border: 1px dashed gray;margin: 0 0.4em 0.5em 0.4em;box-sizing: border-box;padding-bottom: 0.4em;background-color: white;}#sk-container-id-1 div.sk-label label {font-family: monospace;font-weight: bold;display: inline-block;line-height: 1.2em;}#sk-container-id-1 div.sk-label-container {text-align: center;}#sk-container-id-1 div.sk-container {/* jupyter's `normalize.less` sets `[hidden] { display: none; }` but bootstrap.min.css set `[hidden] { display: none !important; }` so we also need the `!important` here to be able to override the default hidden behavior on the sphinx rendered scikit-learn.org. See: https://github.com/scikit-learn/scikit-learn/issues/21755 */display: inline-block !important;position: relative;}#sk-container-id-1 div.sk-text-repr-fallback {display: none;}</style><div id=\"sk-container-id-1\" class=\"sk-top-container\"><div class=\"sk-text-repr-fallback\"><pre>MultinomialNB()</pre><b>In a Jupyter environment, please rerun this cell to show the HTML representation or trust the notebook. <br />On GitHub, the HTML representation is unable to render, please try loading this page with nbviewer.org.</b></div><div class=\"sk-container\" hidden><div class=\"sk-item\"><div class=\"sk-estimator sk-toggleable\"><input class=\"sk-toggleable__control sk-hidden--visually\" id=\"sk-estimator-id-1\" type=\"checkbox\" checked><label for=\"sk-estimator-id-1\" class=\"sk-toggleable__label sk-toggleable__label-arrow\">MultinomialNB</label><div class=\"sk-toggleable__content\"><pre>MultinomialNB()</pre></div></div></div></div></div>"
            ],
            "text/plain": [
              "MultinomialNB()"
            ]
          },
          "execution_count": 22,
          "metadata": {},
          "output_type": "execute_result"
        }
      ],
      "source": [
        "NB_classifier = MultinomialNB()\n",
        "NB_classifier.fit(X_train,Y_train)"
      ]
    },
    {
      "cell_type": "code",
      "execution_count": null,
      "metadata": {
        "id": "I4qr1zj5T779",
        "outputId": "90d43126-d991-4bcb-92c2-6182c43e3298"
      },
      "outputs": [
        {
          "data": {
            "text/plain": [
              "array(['5', '5', '5', ..., '5', '5', '5'], dtype='<U1')"
            ]
          },
          "execution_count": 23,
          "metadata": {},
          "output_type": "execute_result"
        }
      ],
      "source": [
        "Y_predict_train = NB_classifier.predict(X_train)\n",
        "Y_predict_train"
      ]
    },
    {
      "cell_type": "code",
      "execution_count": null,
      "metadata": {
        "id": "lMGWpH5DT779",
        "outputId": "52537b2e-717c-49d5-c6d9-d6b659b22a38"
      },
      "outputs": [
        {
          "data": {
            "text/plain": [
              "<AxesSubplot:>"
            ]
          },
          "execution_count": 24,
          "metadata": {},
          "output_type": "execute_result"
        },
        {
          "data": {
            "image/png": "[encoded data removed]",
            "text/plain": [
              "<Figure size 640x480 with 2 Axes>"
            ]
          },
          "metadata": {},
          "output_type": "display_data"
        }
      ],
      "source": [
        "cm = confusion_matrix(Y_train, Y_predict_train)\n",
        "sns.heatmap(cm,annot=True)"
      ]
    },
    {
      "cell_type": "code",
      "execution_count": null,
      "metadata": {
        "id": "k0UU_5w8T779",
        "outputId": "ae3bee5c-50b4-4935-9bee-30e10f4b3419"
      },
      "outputs": [
        {
          "data": {
            "text/plain": [
              "<AxesSubplot:>"
            ]
          },
          "execution_count": 25,
          "metadata": {},
          "output_type": "execute_result"
        },
        {
          "data": {
            "image/png": "[encoded data removed]",
            "text/plain": [
              "<Figure size 640x480 with 2 Axes>"
            ]
          },
          "metadata": {},
          "output_type": "display_data"
        }
      ],
      "source": [
        "Y_predict_test = NB_classifier.predict(X_test)\n",
        "Y_predict_test\n",
        "cm = confusion_matrix(Y_test, Y_predict_test)\n",
        "sns.heatmap(cm,annot=True)"
      ]
    },
    {
      "cell_type": "code",
      "execution_count": null,
      "metadata": {
        "id": "OVutYbYoT779",
        "outputId": "40a52a55-e0f3-4896-ea98-f3bd3fd91ae0"
      },
      "outputs": [
        {
          "name": "stdout",
          "output_type": "stream",
          "text": [
            "              precision    recall  f1-score   support\n",
            "\n",
            "           1       0.00      0.00      0.00        10\n",
            "           2       0.00      0.00      0.00        18\n",
            "           3       0.40      0.03      0.06        65\n",
            "           4       0.31      0.08      0.13       165\n",
            "           5       0.84      0.98      0.91      1242\n",
            "\n",
            "    accuracy                           0.83      1500\n",
            "   macro avg       0.31      0.22      0.22      1500\n",
            "weighted avg       0.75      0.83      0.77      1500\n",
            "\n"
          ]
        },
        {
          "name": "stderr",
          "output_type": "stream",
          "text": [
            "C:\\Users\\parjita\\AppData\\Local\\Programs\\Python\\Python310\\lib\\site-packages\\sklearn\\metrics\\_classification.py:1334: UndefinedMetricWarning: Precision and F-score are ill-defined and being set to 0.0 in labels with no predicted samples. Use `zero_division` parameter to control this behavior.\n",
            "  _warn_prf(average, modifier, msg_start, len(result))\n",
            "C:\\Users\\parjita\\AppData\\Local\\Programs\\Python\\Python310\\lib\\site-packages\\sklearn\\metrics\\_classification.py:1334: UndefinedMetricWarning: Precision and F-score are ill-defined and being set to 0.0 in labels with no predicted samples. Use `zero_division` parameter to control this behavior.\n",
            "  _warn_prf(average, modifier, msg_start, len(result))\n",
            "C:\\Users\\parjita\\AppData\\Local\\Programs\\Python\\Python310\\lib\\site-packages\\sklearn\\metrics\\_classification.py:1334: UndefinedMetricWarning: Precision and F-score are ill-defined and being set to 0.0 in labels with no predicted samples. Use `zero_division` parameter to control this behavior.\n",
            "  _warn_prf(average, modifier, msg_start, len(result))\n"
          ]
        }
      ],
      "source": [
        "from sklearn.metrics import classification_report\n",
        "print(classification_report(Y_test, Y_predict_test))"
      ]
    },
    {
      "cell_type": "code",
      "execution_count": null,
      "metadata": {
        "id": "XY6P6pt2T779",
        "outputId": "ad956d0b-800e-409c-cb8f-edc5c005199d"
      },
      "outputs": [
        {
          "name": "stdout",
          "output_type": "stream",
          "text": [
            "Accuracy 82.53333333333333%\n"
          ]
        }
      ],
      "source": [
        "from sklearn.metrics import accuracy_score\n",
        "print ('Accuracy {}%'.format( 100 * accuracy_score(Y_predict_test,Y_test)))"
      ]
    }
  ],
  "metadata": {
    "colab": {
      "provenance": []
    },
    "kernelspec": {
      "display_name": "Python 3 (ipykernel)",
      "language": "python",
      "name": "python3"
    },
    "language_info": {
      "codemirror_mode": {
        "name": "ipython",
        "version": 3
      },
      "file_extension": ".py",
      "mimetype": "text/x-python",
      "name": "python",
      "nbconvert_exporter": "python",
      "pygments_lexer": "ipython3",
      "version": "3.10.5"
    }
  },
  "nbformat": 4,
  "nbformat_minor": 0
}
